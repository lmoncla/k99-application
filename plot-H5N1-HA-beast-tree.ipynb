{
 "cells": [
  {
   "cell_type": "markdown",
   "metadata": {},
   "source": [
    "# Plot H5N1 beast tree using baltic for fellowship applications"
   ]
  },
  {
   "cell_type": "code",
   "execution_count": 1,
   "metadata": {},
   "outputs": [],
   "source": [
    "import sys, subprocess, glob, os, shutil, re, importlib\n",
    "from subprocess import call\n",
    "import imp\n",
    "bt = imp.load_source('baltic', '/Users/lmoncla/src/baltic/baltic.py')\n",
    "\n",
    "%matplotlib inline\n",
    "import matplotlib as mpl\n",
    "from matplotlib import pyplot as plt\n",
    "import matplotlib.patheffects as path_effects\n",
    "import matplotlib.lines as mlines\n",
    "from matplotlib.font_manager import FontProperties\n",
    "\n",
    "import numpy as np\n",
    "from scipy.special import binom\n",
    "\n",
    "import datetime as dt"
   ]
  },
  {
   "cell_type": "code",
   "execution_count": 2,
   "metadata": {},
   "outputs": [],
   "source": [
    "mpl.rcParams['font.serif'] = \"Helvetica\""
   ]
  },
  {
   "cell_type": "code",
   "execution_count": 3,
   "metadata": {},
   "outputs": [],
   "source": [
    "# create empty baltic tree object\n",
    "myTree = bt.tree()"
   ]
  },
  {
   "cell_type": "code",
   "execution_count": 4,
   "metadata": {},
   "outputs": [
    {
     "data": {
      "text/plain": [
       "<baltic.tree instance at 0x117ad4d40>"
      ]
     },
     "execution_count": 4,
     "metadata": {},
     "output_type": "execute_result"
    }
   ],
   "source": [
    "treeString='((A:1.0,B:2.0):1.0,C:3.0);'\n",
    "bt.make_tree(treeString, myTree)"
   ]
  },
  {
   "cell_type": "code",
   "execution_count": 6,
   "metadata": {},
   "outputs": [],
   "source": [
    "# load trees\n",
    "tree = bt.loadNexus(\"/Volumes/gradschool-and-postdoc-backups/post-doc/stored_files_too_big_for_laptop/H5N1_Cambodia_outbreak_study/beast/dta-2018-08-23/HA_2018-08-23.mcc.tree\")"
   ]
  },
  {
   "cell_type": "code",
   "execution_count": 7,
   "metadata": {},
   "outputs": [],
   "source": [
    "typeface='Helvetica'\n",
    "mpl.rcParams['font.weight']=300\n",
    "mpl.rcParams['axes.labelweight']=300\n",
    "mpl.rcParams['font.family']=typeface\n",
    "mpl.rcParams['font.size']=14"
   ]
  },
  {
   "cell_type": "code",
   "execution_count": 16,
   "metadata": {},
   "outputs": [],
   "source": [
    "#make color dictionary to set colors based on geo or on host species  #other cambodia option, lighter: #ecbc91\n",
    "#colors = {'wild':'#fdb771', 'domestic':'#13257a', 'unknown':'#47c5b8', 'human':'#e7e17e'}\n",
    "colors = {'wild':'#CEB540', 'domestic':'#4E83AE','human':'#DE4428','not yet annotated':'#CBCACA'}\n",
    "color_key = {'wild':'#CEB540', 'domestic':'#4E83AE','human':'#DE4428','not yet annotated':'#CBCACA'}"
   ]
  },
  {
   "cell_type": "code",
   "execution_count": 19,
   "metadata": {},
   "outputs": [],
   "source": [
    "# read in colors from annotations file \n",
    "annotations = \"/Users/lmoncla/Documents/Fellowships/data_query/H5N1_tree_annotations.txt\"\n",
    "colors = {}\n",
    "alphas = {}\n",
    "sizes = {}\n",
    "\n",
    "with open(annotations, \"r\") as infile: \n",
    "    for line in infile: \n",
    "        sequence = line.split(\"\\t\")[0]\n",
    "        host_group = line.split(\"\\t\")[3].strip()\n",
    "        \n",
    "        if host_group == 'wild':\n",
    "            color = color_key['wild']\n",
    "            alpha = 1\n",
    "            size = 3\n",
    "        elif host_group == 'domestic':\n",
    "            color =  color_key['domestic']\n",
    "            alpha = 1\n",
    "            size = 3\n",
    "        elif host_group == 'human':\n",
    "            color =  color_key['human']\n",
    "            alpha = 1\n",
    "            size = 3\n",
    "        elif host_group == 'unknown' or host_group == \"\":\n",
    "            color =  '#CBCACA'\n",
    "            alpha = 0.6\n",
    "            size = 3\n",
    "        else:\n",
    "            color = '#CBCACA'\n",
    "            alpha = 0.6\n",
    "            size = 3\n",
    "\n",
    "        colors[sequence] = color\n",
    "        alphas[sequence] = alpha\n",
    "        sizes[sequence] = size\n",
    "        \n",
    "#print(colors)"
   ]
  },
  {
   "cell_type": "code",
   "execution_count": null,
   "metadata": {},
   "outputs": [],
   "source": []
  },
  {
   "cell_type": "code",
   "execution_count": 20,
   "metadata": {},
   "outputs": [],
   "source": [
    "def convertDate(x,start,end):\n",
    "    \"\"\" Converts calendar dates between given formats \"\"\"\n",
    "    return dt.datetime.strftime(dt.datetime.strptime(x,start),end)"
   ]
  },
  {
   "cell_type": "code",
   "execution_count": 21,
   "metadata": {},
   "outputs": [],
   "source": [
    "#for k in tree.Objects: ## iterate over objects in tree\n",
    "    #print(k)\n",
    "    #if isinstance(k, bt.leaf) == True:\n",
    "        #print k.name"
   ]
  },
  {
   "cell_type": "code",
   "execution_count": 22,
   "metadata": {},
   "outputs": [],
   "source": [
    "# to remove the top group and reduce length of tree:\n",
    "ones_to_remove = [\"a/northernshoveler/mississippi/11os5805/2011|a|h5n1|amnongsgd|ha|4|cy166736|usa|2011-12-08\",\"a/mallard/illinois/12os5080/2012|a|h5n1|amnongsgd|ha|4|cy186667|usa|2012-10-20\",\"a/mallard/ohio/11os2216/2011|a|h5n1|amnongsgd|ha|4|cy132445|usa|2011-08-19\",\"a/mallard/ohio/12os2218/2012|a|h5n1|amnongsgd|ha|4|cy187005|usa|2012-11-16\",\"a/ruddyturnstone/delawarebay/317/2016|a|h5n1|amnongsgd|ha|4|mf613724|usa|2016-05-24\",\"a/canadagoose/delawarebay/601/2016|a|h5n1|amnongsgd|ha|4|mf046544|usa|2016-05-25\",\"a/mallard/wisconsin/2576/2009|a|h5n1|amnongsgd|ha|4|cy097350|usa|2009-10-06\",\"a/mallard/california/2535p/2011|a|h5n1|amnongsgd|ha|4|cy133981|usa|2011-08-12\",\"a/mallard/california/2536v/2011|a|h5n1|amnongsgd|ha|4|cy134005|usa|2011-08-12\",\"a/mallard/california/2542v/2011|a|h5n1|amnongsgd|ha|4|cy134021|usa|2011-08-12\",\"a/blackduck/tennessee/17os0306/2017|a|h5n1|amnongsgd|ha|4|mg279989|usa|2017-01-13\",\"a/mallard/minnesota/ai114429/2011|a|h5n1|amnongsgd|ha|4|cy206115|usa|2011-09-15\",\"a/mallard/california/2531v/2011|a|h5n1|amnongsgd|ha|4|cy133957|usa|2011-08-12\",\"a/gadwallduck/tennessee/17os0341/2017|a|h5n1|amnongsgd|ha|4|mg280333|usa|2017-01-14\",\"a/mallard/wisconsin/10os2672/2010|a|h5n1|amnongsgd|ha|4|cy133077|usa|2010-10-02\"]"
   ]
  },
  {
   "cell_type": "code",
   "execution_count": 23,
   "metadata": {},
   "outputs": [
    {
     "name": "stdout",
     "output_type": "stream",
     "text": [
      "yes\n",
      "yes\n",
      "yes\n",
      "yes\n",
      "yes\n",
      "yes\n",
      "yes\n",
      "yes\n",
      "yes\n",
      "yes\n",
      "yes\n",
      "yes\n",
      "yes\n",
      "yes\n",
      "yes\n"
     ]
    }
   ],
   "source": [
    "# remove from tree \n",
    "for k in tree.Objects: ## iterate over objects in tree\n",
    "    #print(k)\n",
    "    if isinstance(k, bt.leaf) == True:\n",
    "        if k.name in ones_to_remove:\n",
    "            print(\"yes\")"
   ]
  },
  {
   "cell_type": "code",
   "execution_count": 24,
   "metadata": {
    "scrolled": true
   },
   "outputs": [
    {
     "name": "stderr",
     "output_type": "stream",
     "text": [
      "/Users/lmoncla/miniconda3/envs/mumps/lib/python2.7/site-packages/matplotlib/font_manager.py:1320: UserWarning: findfont: Font family [u'Helvetica'] not found. Falling back to DejaVu Sans\n",
      "  (prop.get_family(), self.defaultFamily[fontext]))\n"
     ]
    },
    {
     "data": {
      "image/png": "[encoded data removed]",
      "text/plain": [
       "<matplotlib.figure.Figure at 0x118b12590>"
      ]
     },
     "metadata": {},
     "output_type": "display_data"
    }
   ],
   "source": [
    "fig,ax = plt.subplots(figsize=(3,5),facecolor='w')\n",
    "\n",
    "# this sets the grey vertical shading \n",
    "every=12\n",
    "xDates=['%04d-01-01'%(y) for y in range(1975,2018)]\n",
    "\n",
    "[ax.axvspan(bt.decimalDate(xDates[x]),bt.decimalDate(xDates[x])+1/float(12),facecolor='k',edgecolor='none',alpha=0.04) for x in range(0,len(xDates))]\n",
    "#ax.set_xticks([bt.decimalDate(x)+1/24.0 for x in xDates if (int(x.split('-')[1])-1)%every==0])\n",
    "\n",
    "#ax.set_xticklabels([convertDate(x,'%Y-%m-%d','%Y') if x.split('-')[1]=='01' else convertDate(x,'%Y-%m-%d','%b') for x in xDates if (int(x.split('-')[1])-1)%every==0])\n",
    "ax.tick_params(axis='x',labelsize=8,size=0)\n",
    "\n",
    "# this sets the vertical dashed lines on the tree\n",
    "[ax.axvline(i,ls='--',lw=0.45,color='grey',zorder=0) for i in range(1975,2018,5)]\n",
    "\n",
    "\n",
    "branchWidth=0.35 ## default branch width\n",
    "\n",
    "cmap=mpl.cm.viridis\n",
    "\n",
    "# k objects are tips, nodes, branches\n",
    "for k in tree.Objects: ## iterate over objects in tree\n",
    "    #   x=k.x ## or from x position determined earlier\n",
    "    x=k.absoluteTime ## or use absolute time instead\n",
    "    y=k.y ## get y position from .drawTree that was run earlier, but could be anything else\n",
    "    \n",
    "#     xp=k.parent.x ## get x position of current object's parent\n",
    "    xp=k.parent.absoluteTime ## get x position of current object's parent\n",
    "    if x==None: ## matplotlib won't plot Nones, like root\n",
    "        x=0.0\n",
    "    if xp==None:\n",
    "        xp=x\n",
    "        #c='indianred' ## colour can be fixed\n",
    "#     c=cmap(k.height/ll.treeHeight) ## or be a function of something else\n",
    "#     c=[cmap(k.traits['posterior']) if k.traits.has_key('posterior') else cmap(1.0)][0]\n",
    "    #c=colors[k.traits['geo']]\n",
    "    #c=['#63C78A' if k.traits['geo']=='cambodia' else '#6A34CA'][0] ## can be discrete too\n",
    "    \n",
    "    if isinstance(k,bt.leaf) or k.branchType=='leaf': ## if leaf...\n",
    "        #x=decimalDate(k.name.split('_')[-1],variable=True) ## get x position from name\n",
    "        s=sizes[k.name]\n",
    "        #s=sizes[k.name] ## tip size specified in a dictionary\n",
    "        #s=50-40*k.height/tree.treeHeight\n",
    "        \n",
    "        \n",
    "        #ax.scatter(x,y,s=s+0.8*s,facecolor='k',edgecolor='none',zorder=10) ## plot black circle underneath\n",
    "    \n",
    "    if isinstance(k, bt.leaf):\n",
    "        if k.name in colors:\n",
    "            c = colors[k.name]\n",
    "        else: \n",
    "            c = '#CBCACA'\n",
    "            print(k.name)\n",
    "        a = alphas[k.name]\n",
    "        ax.scatter(x,y,s=s,facecolor=c,edgecolor='none',zorder=11) ## plot circle for every tip\n",
    "    \n",
    "    if k.branchType =='leaf':\n",
    "        c=\"#000000\"\n",
    "        #c = colors[k.name]\n",
    "        \n",
    "    elif isinstance(k,bt.node) or k.branchType=='node': ## if node...\n",
    "        c=\"#000000\"\n",
    "        ax.plot([x,x],[k.children[-1].y,k.children[0].y],lw=branchWidth,color=c,ls='-',zorder=9)\n",
    "        \n",
    "        \n",
    "    ax.plot([xp,x],[y,y],lw=branchWidth,color=c,ls='-',zorder=9)\n",
    "        \n",
    "    # add in a legend\n",
    "    han_list = []\n",
    "\n",
    "    for key in color_key:\n",
    "        marker = mlines.Line2D(range(1), range(1), color = color_key[key], marker='o', markerfacecolor = color_key[key], label = key, markersize = 4)\n",
    "        han_list.append(marker)\n",
    "\n",
    "    ax.legend(handles = han_list, markerfirst = True, frameon=False, loc=3, fontsize=8)\n",
    "\n",
    "        \n",
    "# set axis limits, remove border lines         \n",
    "ax.spines['left'].set_visible(False)\n",
    "ax.spines['right'].set_visible(False)\n",
    "ax.spines['top'].set_visible(False)\n",
    "ax.spines['bottom'].set_visible(False)\n",
    "\n",
    "ax.set_ylim(-5,tree.ySpan+5)\n",
    "ax.tick_params(axis='y',labelsize=0,size=0)\n",
    "#ax.set_xticklabels([])\n",
    "ax.set_yticklabels([])\n",
    "\n",
    "#ax.set_xlim(bt.decimalDate('2008-01-01'),bt.decimalDate('2016-12-30'))\n",
    "ax.set_ylim(-5,tree.ySpan+5)\n",
    "\n",
    "\n",
    "plt.savefig('/Users/lmoncla/Documents/Conferences/LSRF-annual-meeting-2019/poster/HA-annotated-tree-2019-10-01.pdf', dpi=300)\n",
    "plt.show()"
   ]
  },
  {
   "cell_type": "markdown",
   "metadata": {},
   "source": [
    "## Plot tree highlighting the Cambodia 2013 samples"
   ]
  },
  {
   "cell_type": "code",
   "execution_count": 19,
   "metadata": {},
   "outputs": [],
   "source": [
    "# make a dictionary for color and size\n",
    "color = {}\n",
    "size = {}\n",
    "\n",
    "for k in tree.Objects: ## iterate over objects in tree\n",
    "    #print(k)\n",
    "    if isinstance(k, bt.leaf) == True:\n",
    "        if \"cambodia\" in k.name and (\"2012\" in k.name or \"2013\" in k.name or \"2014\" in k.name):\n",
    "            size[k.name] = 2\n",
    "            color[k.name] = colors[k.name]\n",
    "        else:\n",
    "            color[k.name] = '#CBCACA'\n",
    "            size[k.name] = 0"
   ]
  },
  {
   "cell_type": "code",
   "execution_count": 20,
   "metadata": {},
   "outputs": [],
   "source": [
    "# to change the colors \n",
    "for c in color: \n",
    "    if color[c] == '#13257a':\n",
    "        color[c] = '#368FE3'"
   ]
  },
  {
   "cell_type": "code",
   "execution_count": 21,
   "metadata": {},
   "outputs": [],
   "source": [
    "# color dictionary for key \n",
    "color_key2 = {\"human\" : '#E3363B', \"poultry\": '#368FE3'}"
   ]
  },
  {
   "cell_type": "code",
   "execution_count": 23,
   "metadata": {},
   "outputs": [
    {
     "data": {
      "image/png": "[encoded data removed]",
      "text/plain": [
       "<matplotlib.figure.Figure at 0x1175a4fd0>"
      ]
     },
     "metadata": {},
     "output_type": "display_data"
    }
   ],
   "source": [
    "fig,ax = plt.subplots(figsize=(2,2),facecolor='w')\n",
    "\n",
    "# this sets the grey vertical shading \n",
    "every=12\n",
    "xDates=['%04d-01-01'%(y) for y in range(1975,2018)]\n",
    "\n",
    "[ax.axvspan(bt.decimalDate(xDates[x]),bt.decimalDate(xDates[x])+1/float(12),facecolor='k',edgecolor='none',alpha=0.04) for x in range(0,len(xDates))]\n",
    "#ax.set_xticks([bt.decimalDate(x)+1/24.0 for x in xDates if (int(x.split('-')[1])-1)%every==0])\n",
    "\n",
    "#ax.set_xticklabels([convertDate(x,'%Y-%m-%d','%Y') if x.split('-')[1]=='01' else convertDate(x,'%Y-%m-%d','%b') for x in xDates if (int(x.split('-')[1])-1)%every==0])\n",
    "ax.tick_params(axis='x',labelsize=8,size=0)\n",
    "\n",
    "# this sets the vertical dashed lines on the tree\n",
    "[ax.axvline(i,ls='--',lw=0.45,color='grey',zorder=0) for i in range(1975,2018,5)]\n",
    "\n",
    "\n",
    "branchWidth=0.35 ## default branch width\n",
    "\n",
    "cmap=mpl.cm.viridis\n",
    "\n",
    "# k objects are tips, nodes, branches\n",
    "for k in tree.Objects: ## iterate over objects in tree\n",
    "    #   x=k.x ## or from x position determined earlier\n",
    "    x=k.absoluteTime ## or use absolute time instead\n",
    "    y=k.y ## get y position from .drawTree that was run earlier, but could be anything else\n",
    "    \n",
    "#     xp=k.parent.x ## get x position of current object's parent\n",
    "    xp=k.parent.absoluteTime ## get x position of current object's parent\n",
    "    if x==None: ## matplotlib won't plot Nones, like root\n",
    "        x=0.0\n",
    "    if xp==None:\n",
    "        xp=x\n",
    "        #c='indianred' ## colour can be fixed\n",
    "#     c=cmap(k.height/ll.treeHeight) ## or be a function of something else\n",
    "#     c=[cmap(k.traits['posterior']) if k.traits.has_key('posterior') else cmap(1.0)][0]\n",
    "    #c=colors[k.traits['geo']]\n",
    "    #c=['#63C78A' if k.traits['geo']=='cambodia' else '#6A34CA'][0] ## can be discrete too\n",
    "    \n",
    "    if isinstance(k,bt.leaf) or k.branchType=='leaf': ## if leaf...\n",
    "        #x=decimalDate(k.name.split('_')[-1],variable=True) ## get x position from name\n",
    "        s=size[k.name]\n",
    "        #s=sizes[k.name] ## tip size specified in a dictionary\n",
    "        #s=50-40*k.height/tree.treeHeight\n",
    "        \n",
    "        \n",
    "        #ax.scatter(x,y,s=s+0.8*s,facecolor='k',edgecolor='none',zorder=10) ## plot black circle underneath\n",
    "    \n",
    "    if isinstance(k, bt.leaf):\n",
    "        if k.name in color:\n",
    "            c = color[k.name]\n",
    "        else: \n",
    "            c = '#CBCACA'\n",
    "            print(k.name)\n",
    "        ax.scatter(x,y,s=s,facecolor=c,edgecolor='none',zorder=11) ## plot circle for every tip\n",
    "    \n",
    "    if k.branchType =='leaf':\n",
    "        c=\"#9F9F9F\"\n",
    "        \n",
    "    elif isinstance(k,bt.node) or k.branchType=='node': ## if node...\n",
    "        c=\"#9F9F9F\"\n",
    "        ax.plot([x,x],[k.children[-1].y,k.children[0].y],lw=branchWidth,color=c,ls='-',zorder=9)\n",
    "        \n",
    "        \n",
    "    ax.plot([xp,x],[y,y],lw=branchWidth,color=c,ls='-',zorder=9)\n",
    "        \n",
    "    # add in a legend\n",
    "    han_list = []\n",
    "\n",
    "    for key in color_key2:\n",
    "        marker = mlines.Line2D(range(1), range(1), color = color_key2[key], marker='o', markerfacecolor = color_key2[key], label = key, markersize = 4)\n",
    "        han_list.append(marker)\n",
    "\n",
    "    ax.legend(handles = han_list, markerfirst = True, frameon=False, loc=3, fontsize=8)\n",
    "\n",
    "        \n",
    "# set axis limits, remove border lines         \n",
    "ax.spines['left'].set_visible(False)\n",
    "ax.spines['right'].set_visible(False)\n",
    "ax.spines['top'].set_visible(False)\n",
    "ax.spines['bottom'].set_visible(False)\n",
    "\n",
    "ax.set_ylim(-5,tree.ySpan+5)\n",
    "ax.tick_params(axis='y',labelsize=0,size=0)\n",
    "#ax.set_xticklabels([])\n",
    "ax.set_yticklabels([])\n",
    "\n",
    "#ax.set_xlim(bt.decimalDate('2008-01-01'),bt.decimalDate('2016-12-30'))\n",
    "ax.set_ylim(-5,tree.ySpan+5)\n",
    "\n",
    "\n",
    "plt.savefig('/Users/lmoncla/Documents/Fellowships/LSRF/figures/H5N1-Cambodia-only-long-2018-10-01.pdf', dpi=300)\n",
    "plt.show()"
   ]
  },
  {
   "cell_type": "markdown",
   "metadata": {},
   "source": [
    "## Notes on TMRCA for human Cambodian samples \n",
    "\n",
    "I used this website to convert dates: http://sopac.ucsd.edu/convertDate.shtml\n",
    "\n",
    "date that all Cambodia 2013 human samples share a common ancestor: 5.2992 \n",
    "date of youngest tip: 2017.6356 (August 20, 2017)\n",
    "\n",
    "2017.6356 - 5.2992 = 2012.3364 (May 3, 2012) \n",
    "\n",
    "95% posterior density: 5.1193, 5.4974\n",
    "\n",
    "2017.6356 - 5.1193 = 2012.5163 (July 7, 2012)\n",
    "\n",
    "2017.6356 - 5.4974 = 2012.1382 (February 20, 2012)\n",
    "\n",
    "Probability is very high that this node was in Cambodia at that time. "
   ]
  },
  {
   "cell_type": "code",
   "execution_count": null,
   "metadata": {},
   "outputs": [],
   "source": []
  }
 ],
 "metadata": {
  "kernelspec": {
   "display_name": "mumps",
   "language": "python",
   "name": "mumps"
  },
  "language_info": {
   "codemirror_mode": {
    "name": "ipython",
    "version": 2
   },
   "file_extension": ".py",
   "mimetype": "text/x-python",
   "name": "python",
   "nbconvert_exporter": "python",
   "pygments_lexer": "ipython2",
   "version": "2.7.14"
  }
 },
 "nbformat": 4,
 "nbformat_minor": 2
}
