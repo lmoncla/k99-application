{
 "cells": [
  {
   "cell_type": "markdown",
   "metadata": {},
   "source": [
    "# Plot PB2 polymerase activity assay preliminary data \n",
    "\n"
   ]
  },
  {
   "cell_type": "code",
   "execution_count": 1,
   "metadata": {},
   "outputs": [],
   "source": [
    "# import necessary modules\n",
    "import sys, subprocess, glob, os, shutil, re, importlib, Bio, csv\n",
    "import numpy as np\n",
    "import pandas as pd\n",
    "import rpy2\n",
    "%load_ext rpy2.ipython"
   ]
  },
  {
   "cell_type": "code",
   "execution_count": 100,
   "metadata": {},
   "outputs": [
    {
     "name": "stderr",
     "output_type": "stream",
     "text": [
      "/Users/lmoncla/anaconda/envs/LHM-basics/lib/python3.7/site-packages/ipykernel_launcher.py:2: FutureWarning: from_csv is deprecated. Please use read_csv(...) instead. Note that some of the default arguments are different, so please refer to the documentation for from_csv when changing your function calls\n",
      "  \n"
     ]
    }
   ],
   "source": [
    "# read in data as dataframe \n",
    "df = pd.DataFrame.from_csv(\"/Users/lmoncla/Documents/Fellowships/K99/resubmission/polymerase-activity-assay-data/flow-cytometry-results/raw-data.txt\",sep=\"\\t\")\n",
    "df.reset_index(inplace=True)"
   ]
  },
  {
   "cell_type": "code",
   "execution_count": 101,
   "metadata": {},
   "outputs": [
    {
     "data": {
      "text/html": [
       "<div>\n",
       "<style scoped>\n",
       "    .dataframe tbody tr th:only-of-type {\n",
       "        vertical-align: middle;\n",
       "    }\n",
       "\n",
       "    .dataframe tbody tr th {\n",
       "        vertical-align: top;\n",
       "    }\n",
       "\n",
       "    .dataframe thead th {\n",
       "        text-align: right;\n",
       "    }\n",
       "</style>\n",
       "<table border=\"1\" class=\"dataframe\">\n",
       "  <thead>\n",
       "    <tr style=\"text-align: right;\">\n",
       "      <th></th>\n",
       "      <th>Sample</th>\n",
       "      <th>293T|Count</th>\n",
       "      <th>Q1</th>\n",
       "      <th>Q2</th>\n",
       "      <th>Q3</th>\n",
       "      <th>Q4</th>\n",
       "      <th>Median</th>\n",
       "      <th>Geometric Mean</th>\n",
       "      <th>Mean</th>\n",
       "      <th>Proportion_positive</th>\n",
       "    </tr>\n",
       "  </thead>\n",
       "  <tbody>\n",
       "    <tr>\n",
       "      <th>0</th>\n",
       "      <td>BioT</td>\n",
       "      <td>7850</td>\n",
       "      <td>0.013</td>\n",
       "      <td>0.013</td>\n",
       "      <td>0.000</td>\n",
       "      <td>100.0</td>\n",
       "      <td>332.0</td>\n",
       "      <td>332.0</td>\n",
       "      <td>332.0</td>\n",
       "      <td>0.000</td>\n",
       "    </tr>\n",
       "    <tr>\n",
       "      <th>1</th>\n",
       "      <td>GFP</td>\n",
       "      <td>7781</td>\n",
       "      <td>52.400</td>\n",
       "      <td>0.000</td>\n",
       "      <td>0.013</td>\n",
       "      <td>47.6</td>\n",
       "      <td>NaN</td>\n",
       "      <td>NaN</td>\n",
       "      <td>NaN</td>\n",
       "      <td>0.000</td>\n",
       "    </tr>\n",
       "    <tr>\n",
       "      <th>2</th>\n",
       "      <td>No trans control</td>\n",
       "      <td>8253</td>\n",
       "      <td>0.000</td>\n",
       "      <td>0.000</td>\n",
       "      <td>0.012</td>\n",
       "      <td>100.0</td>\n",
       "      <td>NaN</td>\n",
       "      <td>NaN</td>\n",
       "      <td>NaN</td>\n",
       "      <td>0.000</td>\n",
       "    </tr>\n",
       "    <tr>\n",
       "      <th>3</th>\n",
       "      <td>627K</td>\n",
       "      <td>6671</td>\n",
       "      <td>0.900</td>\n",
       "      <td>54.800</td>\n",
       "      <td>10.100</td>\n",
       "      <td>34.2</td>\n",
       "      <td>11854.0</td>\n",
       "      <td>10121.0</td>\n",
       "      <td>17865.0</td>\n",
       "      <td>0.844</td>\n",
       "    </tr>\n",
       "    <tr>\n",
       "      <th>4</th>\n",
       "      <td>627E</td>\n",
       "      <td>6831</td>\n",
       "      <td>0.015</td>\n",
       "      <td>21.200</td>\n",
       "      <td>42.200</td>\n",
       "      <td>36.5</td>\n",
       "      <td>1964.0</td>\n",
       "      <td>1991.0</td>\n",
       "      <td>3372.0</td>\n",
       "      <td>0.334</td>\n",
       "    </tr>\n",
       "    <tr>\n",
       "      <th>5</th>\n",
       "      <td>mCherry</td>\n",
       "      <td>8184</td>\n",
       "      <td>0.000</td>\n",
       "      <td>0.000</td>\n",
       "      <td>60.600</td>\n",
       "      <td>39.4</td>\n",
       "      <td>NaN</td>\n",
       "      <td>NaN</td>\n",
       "      <td>NaN</td>\n",
       "      <td>0.000</td>\n",
       "    </tr>\n",
       "  </tbody>\n",
       "</table>\n",
       "</div>"
      ],
      "text/plain": [
       "             Sample  293T|Count      Q1      Q2      Q3     Q4   Median  \\\n",
       "0              BioT        7850   0.013   0.013   0.000  100.0    332.0   \n",
       "1               GFP        7781  52.400   0.000   0.013   47.6      NaN   \n",
       "2  No trans control        8253   0.000   0.000   0.012  100.0      NaN   \n",
       "3              627K        6671   0.900  54.800  10.100   34.2  11854.0   \n",
       "4              627E        6831   0.015  21.200  42.200   36.5   1964.0   \n",
       "5           mCherry        8184   0.000   0.000  60.600   39.4      NaN   \n",
       "\n",
       "   Geometric Mean     Mean  Proportion_positive  \n",
       "0           332.0    332.0                0.000  \n",
       "1             NaN      NaN                0.000  \n",
       "2             NaN      NaN                0.000  \n",
       "3         10121.0  17865.0                0.844  \n",
       "4          1991.0   3372.0                0.334  \n",
       "5             NaN      NaN                0.000  "
      ]
     },
     "execution_count": 101,
     "metadata": {},
     "output_type": "execute_result"
    }
   ],
   "source": [
    "df"
   ]
  },
  {
   "cell_type": "code",
   "execution_count": 102,
   "metadata": {},
   "outputs": [],
   "source": [
    "figure_name = \"percent-positive.pdf\""
   ]
  },
  {
   "cell_type": "code",
   "execution_count": 108,
   "metadata": {},
   "outputs": [
    {
     "data": {
      "text/plain": [
       "TableGrob (1 x 2) \"arrange\": 2 grobs\n",
       "  z     cells    name           grob\n",
       "1 1 (1-1,1-1) arrange gtable[layout]\n",
       "2 2 (1-1,2-2) arrange gtable[layout]\n"
      ]
     },
     "metadata": {},
     "output_type": "display_data"
    },
    {
     "data": {
      "image/png": "[encoded data removed]"
     },
     "metadata": {},
     "output_type": "display_data"
    }
   ],
   "source": [
    "%%R -w 800 -h 300 -u px -i df,figure_name  # this sets the size of the plot...otherwise, it will go off the page\n",
    "require(ggplot2)\n",
    "library(ggplot2)\n",
    "require(grid)\n",
    "library(grid)\n",
    "require(gridExtra)\n",
    "\n",
    "df$Sample = gsub(\"No trans control\",\"no trans\\ncontrol\", df$Sample)\n",
    "df$Sample = factor(df$Sample, levels=c(\"627E\",\"627K\", \"GFP\", \"mCherry\",\"BioT\",\"no trans\\ncontrol\"))\n",
    "\n",
    "p1 <- ggplot(data=df, aes(x=Sample, y=Proportion_positive * 100, fill=Sample)) + \n",
    "    geom_col() +\n",
    "#     scale_x_continuous(limits=c(2008, 2018), breaks=c(2008,2010,2012,2014,2016,2018))+ \n",
    "#     scale_y_continuous(limits=c(0,0.3))+\n",
    "    scale_fill_manual(values=c(\"627K\" = \"#E89129\", \"627E\" = \"#2876B4\", \"GFP\"=\"#8B8B8C\", \"mCherry\"=\"#8B8B8C\",\"BioT\"=\"#8B8B8C\",\"no trans\\ncontrol\"=\"#8B8B8C\"), guide=FALSE)+\n",
    "    labs(x=\"\",y=\"% positive\")+\n",
    "    theme(plot.title = element_text(size=20, hjust=0.5))+\n",
    "    theme(panel.grid.major.y=element_line(colour=NA))+\n",
    "    theme(panel.grid.minor=element_line(colour=NA,size=NA))+    \n",
    "    theme(strip.background = element_rect(colour=NA, fill=NA))+\n",
    "    theme(axis.line.x=element_line(colour=\"black\"))+\n",
    "    theme(axis.line.y=element_line(colour=\"black\"))+\n",
    "    theme(strip.text.x=element_text(size=116))+\n",
    "    theme(axis.title.y=element_text(size=16, vjust=4))+\n",
    "    theme(axis.title.x=element_text(size=16, vjust=-3))+\n",
    "    theme(axis.text=element_text(size=14, colour=\"black\"))+\n",
    "    #theme(axis.text.x=element_text(size=12))+\n",
    "    theme(legend.text=element_text(size=16))+\n",
    "    theme(legend.title=element_text(size=16, face=\"plain\"))+\n",
    "    theme(panel.margin=unit(1, \"lines\"))+theme(plot.margin=unit(c(0.1,0.1,0.01,1),\"cm\"))+\n",
    "    theme(legend.key.size=unit(0.7, \"cm\"))+\n",
    "    theme(panel.background=element_rect(fill=NA))+\n",
    "    theme(legend.key=element_rect(fill=NA))\n",
    "\n",
    "\n",
    "p2 <- ggplot(data=df, aes(x=Sample, y=Median, fill=Sample)) + \n",
    "    geom_col() +\n",
    "    scale_y_continuous(limits=c(0,12000), breaks=seq(0,12000,4000))+\n",
    "    scale_fill_manual(values=c(\"627K\" = \"#E89129\", \"627E\" = \"#2876B4\", \"GFP\"=\"#8B8B8C\", \"mCherry\"=\"#8B8B8C\",\"BioT\"=\"#8B8B8C\",\"no trans\\ncontrol\"=\"#8B8B8C\"), guide=FALSE)+\n",
    "    labs(x=\"\",y=\"intensity\")+\n",
    "    theme(plot.title = element_text(size=20, hjust=0.5))+\n",
    "    theme(panel.grid.major.y=element_line(colour=NA))+\n",
    "    theme(panel.grid.minor=element_line(colour=NA,size=NA))+    \n",
    "    theme(strip.background = element_rect(colour=NA, fill=NA))+\n",
    "    theme(axis.line.x=element_line(colour=\"black\"))+\n",
    "    theme(axis.line.y=element_line(colour=\"black\"))+\n",
    "    theme(strip.text.x=element_text(size=116))+\n",
    "    theme(axis.title.y=element_text(size=16, vjust=4))+\n",
    "    theme(axis.title.x=element_text(size=16, vjust=-3))+\n",
    "    theme(axis.text=element_text(size=14, colour=\"black\"))+\n",
    "    #theme(axis.text.x=element_text(size=12))+\n",
    "    theme(legend.text=element_text(size=16))+\n",
    "    theme(legend.title=element_text(size=16, face=\"plain\"))+\n",
    "    theme(panel.margin=unit(1, \"lines\"))+\n",
    "    theme(plot.margin=unit(c(0.1,0.1,0.1,1),\"cm\"))+\n",
    "    theme(legend.key.size=unit(0.7, \"cm\"))+\n",
    "    theme(panel.background=element_rect(fill=NA))+\n",
    "    theme(legend.key=element_rect(fill=NA))\n",
    "\n",
    "\n",
    "p <- grid.arrange(p1, p2, ncol=2)\n",
    "ggsave(figure_name, p, width = 10, height = 2.5, path=\"/Users/lmoncla/Documents/Fellowships/K99/resubmission/figures/\")\n",
    "p"
   ]
  },
  {
   "cell_type": "code",
   "execution_count": null,
   "metadata": {},
   "outputs": [],
   "source": []
  },
  {
   "cell_type": "code",
   "execution_count": null,
   "metadata": {},
   "outputs": [],
   "source": []
  }
 ],
 "metadata": {
  "kernelspec": {
   "display_name": "LHM-basics (python3)",
   "language": "python",
   "name": "lhm-basics"
  },
  "language_info": {
   "codemirror_mode": {
    "name": "ipython",
    "version": 3
   },
   "file_extension": ".py",
   "mimetype": "text/x-python",
   "name": "python",
   "nbconvert_exporter": "python",
   "pygments_lexer": "ipython3",
   "version": "3.7.3"
  }
 },
 "nbformat": 4,
 "nbformat_minor": 2
}
