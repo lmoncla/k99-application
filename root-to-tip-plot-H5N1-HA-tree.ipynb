{
 "cells": [
  {
   "cell_type": "markdown",
   "metadata": {},
   "source": [
    "# Plot root to tip plots for fellowship applications \n",
    "\n",
    "September 20, 2018 \n",
    "\n",
    "I generated a tree using FastTree for the H5 HA dataset that I used for my beast run on 2018-08-23. I opened up the tree file in TempEst, chose \"best fitting root\" and exported the data as a text file. I will now read it in and plot it. "
   ]
  },
  {
   "cell_type": "code",
   "execution_count": 1,
   "metadata": {},
   "outputs": [],
   "source": [
    "# import necessary modules\n",
    "import sys, subprocess, glob, os, shutil, re, importlib, Bio, csv\n",
    "import numpy as np\n",
    "import pandas as pd\n",
    "import rpy2\n",
    "%load_ext rpy2.ipython "
   ]
  },
  {
   "cell_type": "code",
   "execution_count": 2,
   "metadata": {},
   "outputs": [],
   "source": [
    "# read in file \n",
    "infile = \"/Users/lmoncla/Documents/H5N1_Cambodian_outbreak_study/beast/dta-2018-08-23/root-to-tip-2018-09-20.txt\""
   ]
  },
  {
   "cell_type": "code",
   "execution_count": 3,
   "metadata": {},
   "outputs": [
    {
     "data": {
      "text/html": [
       "<div>\n",
       "<style>\n",
       "    .dataframe thead tr:only-child th {\n",
       "        text-align: right;\n",
       "    }\n",
       "\n",
       "    .dataframe thead th {\n",
       "        text-align: left;\n",
       "    }\n",
       "\n",
       "    .dataframe tbody tr th {\n",
       "        vertical-align: top;\n",
       "    }\n",
       "</style>\n",
       "<table border=\"1\" class=\"dataframe\">\n",
       "  <thead>\n",
       "    <tr style=\"text-align: right;\">\n",
       "      <th></th>\n",
       "      <th>tip</th>\n",
       "      <th>date</th>\n",
       "      <th>distance</th>\n",
       "      <th>residual</th>\n",
       "    </tr>\n",
       "  </thead>\n",
       "  <tbody>\n",
       "    <tr>\n",
       "      <th>0</th>\n",
       "      <td>a/muscovyduck/vietnam/lbm113/2012|a|h5n1|2.3.2...</td>\n",
       "      <td>2012.101093</td>\n",
       "      <td>0.207833</td>\n",
       "      <td>0.018957</td>\n",
       "    </tr>\n",
       "    <tr>\n",
       "      <th>1</th>\n",
       "      <td>a/muscovyduck/vietnam/lbm260/2012|a|h5n1|2.3.2...</td>\n",
       "      <td>2012.500000</td>\n",
       "      <td>0.210973</td>\n",
       "      <td>0.018978</td>\n",
       "    </tr>\n",
       "    <tr>\n",
       "      <th>2</th>\n",
       "      <td>a/muscovyduck/vietnam/lbm258/2012|a|h5n1|2.3.2...</td>\n",
       "      <td>2012.500000</td>\n",
       "      <td>0.210983</td>\n",
       "      <td>0.018988</td>\n",
       "    </tr>\n",
       "    <tr>\n",
       "      <th>3</th>\n",
       "      <td>a/muscovyduck/vietnam/ncvd1220/2012|a|h5n1||ha...</td>\n",
       "      <td>2012.103825</td>\n",
       "      <td>0.207293</td>\n",
       "      <td>0.018396</td>\n",
       "    </tr>\n",
       "    <tr>\n",
       "      <th>4</th>\n",
       "      <td>a/duck/vietnam/ncvd1210/2012|a|h5n1||ha|4|not_...</td>\n",
       "      <td>2012.103825</td>\n",
       "      <td>0.208473</td>\n",
       "      <td>0.019576</td>\n",
       "    </tr>\n",
       "  </tbody>\n",
       "</table>\n",
       "</div>"
      ],
      "text/plain": [
       "                                                 tip         date  distance  \\\n",
       "0  a/muscovyduck/vietnam/lbm113/2012|a|h5n1|2.3.2...  2012.101093  0.207833   \n",
       "1  a/muscovyduck/vietnam/lbm260/2012|a|h5n1|2.3.2...  2012.500000  0.210973   \n",
       "2  a/muscovyduck/vietnam/lbm258/2012|a|h5n1|2.3.2...  2012.500000  0.210983   \n",
       "3  a/muscovyduck/vietnam/ncvd1220/2012|a|h5n1||ha...  2012.103825  0.207293   \n",
       "4  a/duck/vietnam/ncvd1210/2012|a|h5n1||ha|4|not_...  2012.103825  0.208473   \n",
       "\n",
       "   residual  \n",
       "0  0.018957  \n",
       "1  0.018978  \n",
       "2  0.018988  \n",
       "3  0.018396  \n",
       "4  0.019576  "
      ]
     },
     "execution_count": 3,
     "metadata": {},
     "output_type": "execute_result"
    }
   ],
   "source": [
    "# read into a dataframe\n",
    "df = pd.read_csv(infile, sep=\"\\t\", header=0)\n",
    "df.head()"
   ]
  },
  {
   "cell_type": "code",
   "execution_count": 5,
   "metadata": {},
   "outputs": [],
   "source": [
    "%%R -w 800 -h 300 -u px -i df  # this sets the size of the plot...otherwise, it will go off the page\n",
    "require(ggplot2)\n",
    "library(ggplot2)\n",
    "\n",
    "p <- ggplot(data=df, aes(x=date, y=distance)) + \n",
    "    geom_point(color=\"#51B695\")+\n",
    "    geom_smooth(method='lm',formula=y~x, color = \"black\", se=FALSE)+\n",
    "    scale_x_continuous(limits=c(2008, 2018), breaks=c(2008,2010,2012,2014,2016,2018))+ \n",
    "    scale_y_continuous(limits=c(0,0.3))+\n",
    "    labs(x=\"collection date\",y=\"root to tip distance\")+\n",
    "    theme(plot.title = element_text(size=20, hjust=0.5))+\n",
    "    theme(panel.grid.major.y=element_line(colour=NA))+\n",
    "    theme(panel.grid.minor=element_line(colour=NA,size=NA))+    \n",
    "    theme(strip.background = element_rect(colour=NA, fill=NA))+\n",
    "    theme(axis.line.x=element_line(colour=\"black\"))+\n",
    "    theme(axis.line.y=element_line(colour=\"black\"))+\n",
    "    theme(strip.text.x=element_text(size=116))+\n",
    "    theme(axis.title.y=element_text(size=16, vjust=8))+\n",
    "    theme(axis.title.x=element_text(size=16, vjust=-12))+\n",
    "    theme(axis.text=element_text(size=16, colour=\"black\"))+\n",
    "    theme(axis.text.x=element_text(size=16))+\n",
    "    theme(legend.text=element_text(size=16))+\n",
    "    theme(legend.title=element_text(size=16, face=\"plain\"))+\n",
    "    theme(panel.margin=unit(1, \"lines\"))+theme(plot.margin=unit(c(1,1,1,1),\"cm\"))+\n",
    "    theme(legend.key.size=unit(0.7, \"cm\"))+\n",
    "    theme(panel.background=element_rect(fill=NA))+\n",
    "    theme(legend.key=element_rect(fill=NA))\n",
    "\n",
    "ggsave(\"root-to-tip-2018-10-07.pdf\", p, width = 5, height = 3.5, device=pdf, path=\"/Users/lmoncla/Documents/Fellowships/K99/figures\")\n"
   ]
  },
  {
   "cell_type": "code",
   "execution_count": null,
   "metadata": {},
   "outputs": [],
   "source": []
  },
  {
   "cell_type": "code",
   "execution_count": null,
   "metadata": {},
   "outputs": [],
   "source": []
  }
 ],
 "metadata": {
  "kernelspec": {
   "display_name": "H5N1_v2",
   "language": "python",
   "name": "h5n1_v2"
  },
  "language_info": {
   "codemirror_mode": {
    "name": "ipython",
    "version": 3
   },
   "file_extension": ".py",
   "mimetype": "text/x-python",
   "name": "python",
   "nbconvert_exporter": "python",
   "pygments_lexer": "ipython3",
   "version": "3.6.7"
  }
 },
 "nbformat": 4,
 "nbformat_minor": 2
}
