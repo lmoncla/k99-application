{
 "cells": [
  {
   "cell_type": "markdown",
   "metadata": {},
   "source": [
    "# Power calculations for regression analysis \n",
    "\n",
    "October 3, 2019 \n",
    "\n",
    "One of the reviewer comments, which is quite fair, it that it is not entirely clear that we will have power to interrogate all of the factors with the number of transitions we have on the tree. This notebook is to perform power calculations for linear regression to figure out about how many transitions we need to investigate the factors I want to look at. \n",
    "\n",
    "In the grant, I say that I want to look at 6 factors: country of isolation, avian host species, isolation location for poultry samples (large market, small farm, backyard flock, etc…), rice cropping intensity within region of isolation, vaccination probability, and proximity to migratory stopover sites. \n",
    "\n",
    "From doing some cursory reading, it looks like power calculations for linear regression is done via an F test. http://web.pdx.edu/~newsomj/mvclass/ho_sample%20size.pdf  which can be down with the pwr package in R https://cran.r-project.org/web/packages/pwr/vignettes/pwr-vignette.html. "
   ]
  },
  {
   "cell_type": "code",
   "execution_count": 156,
   "metadata": {},
   "outputs": [
    {
     "name": "stdout",
     "output_type": "stream",
     "text": [
      "The rpy2.ipython extension is already loaded. To reload it, use:\n",
      "  %reload_ext rpy2.ipython\n"
     ]
    }
   ],
   "source": [
    "# import necessary modules\n",
    "import sys, subprocess, glob, os, shutil, re, importlib, Bio, csv\n",
    "import numpy as np\n",
    "import pandas as pd\n",
    "import rpy2\n",
    "%load_ext rpy2.ipython"
   ]
  },
  {
   "cell_type": "code",
   "execution_count": 157,
   "metadata": {},
   "outputs": [],
   "source": [
    "betas = 6\n",
    "effect_size = 0.4\n",
    "desired_power = 0.9\n",
    "sample_size = 10"
   ]
  },
  {
   "cell_type": "code",
   "execution_count": 158,
   "metadata": {},
   "outputs": [],
   "source": [
    "%%R -w 800 -h 300 -u px\n",
    "#install.packages(\"viridis\", repos='http://cran.us.r-project.org')\n",
    "require(viridis)\n",
    "library(viridis)"
   ]
  },
  {
   "cell_type": "code",
   "execution_count": 159,
   "metadata": {},
   "outputs": [
    {
     "data": {
      "text/plain": [
       "\n",
       "     Multiple regression power calculation \n",
       "\n",
       "              u = 6\n",
       "              v = 3\n",
       "             f2 = 0.6666667\n",
       "      sig.level = 0.05\n",
       "          power = 0.1312982\n",
       "\n"
      ]
     },
     "metadata": {},
     "output_type": "display_data"
    }
   ],
   "source": [
    "%%R -w 800 -h 300 -u px -i betas,effect_size,desired_power,sample_size\n",
    "\n",
    "# ran this the first time to install the pwr package\n",
    "#install.packages(\"pwr\", repos='http://cran.us.r-project.org')\n",
    "require(pwr)\n",
    "library(pwr)\n",
    "\n",
    "# in this test, u = the number of covariates you are testing, the f2 = R2 value/(1-R2 value), significance value\n",
    "# is exactly what it sounds like, and the power is 1 - probability of getting a type I error (false positive).\n",
    "\n",
    "result <- pwr.f2.test(u=betas, v=sample_size - betas - 1, f2=effect_size/(1-effect_size), sig.level=0.05)\n",
    "result"
   ]
  },
  {
   "cell_type": "markdown",
   "metadata": {},
   "source": [
    "## Put into a function to run "
   ]
  },
  {
   "cell_type": "code",
   "execution_count": 160,
   "metadata": {},
   "outputs": [],
   "source": [
    "def return_power(betas,effect_size,desired_power,sample_size):\n",
    "    %R require(pwr); library(pwr)\n",
    "    %R -i betas,effect_size,desired_power,sample_size\n",
    "    %R result <- pwr.f2.test(u=betas, v=sample_size - betas - 1, f2=effect_size/(1-effect_size), sig.level=0.05)\n",
    "    %R power <- result[[5]]\n",
    "    %R -o power\n",
    "    return(power)"
   ]
  },
  {
   "cell_type": "code",
   "execution_count": 161,
   "metadata": {},
   "outputs": [],
   "source": [
    "def frange(x, y, jump):\n",
    "    while x < y:\n",
    "        yield(x)\n",
    "        x += jump"
   ]
  },
  {
   "cell_type": "code",
   "execution_count": 162,
   "metadata": {},
   "outputs": [],
   "source": [
    "def generate_power_dataframe(betas):\n",
    "    power_df = pd.DataFrame()\n",
    "    \n",
    "    for i in range((betas+2),101):\n",
    "        sample_size = i\n",
    "        for n in frange(0.1, 1, 0.05):\n",
    "            effect_size = n\n",
    "            power = return_power(betas,effect_size,desired_power,sample_size)[0]\n",
    "\n",
    "            df = pd.DataFrame.from_dict({\"sample_size\":[sample_size], \"effect_size\":[effect_size], \"power\":[power]})\n",
    "            power_df = power_df.append(df)\n",
    "            \n",
    "    return(power_df)"
   ]
  },
  {
   "cell_type": "code",
   "execution_count": 164,
   "metadata": {},
   "outputs": [
    {
     "data": {
      "text/html": [
       "<div>\n",
       "<style scoped>\n",
       "    .dataframe tbody tr th:only-of-type {\n",
       "        vertical-align: middle;\n",
       "    }\n",
       "\n",
       "    .dataframe tbody tr th {\n",
       "        vertical-align: top;\n",
       "    }\n",
       "\n",
       "    .dataframe thead th {\n",
       "        text-align: right;\n",
       "    }\n",
       "</style>\n",
       "<table border=\"1\" class=\"dataframe\">\n",
       "  <thead>\n",
       "    <tr style=\"text-align: right;\">\n",
       "      <th></th>\n",
       "      <th>sample_size</th>\n",
       "      <th>effect_size</th>\n",
       "      <th>power</th>\n",
       "    </tr>\n",
       "  </thead>\n",
       "  <tbody>\n",
       "    <tr>\n",
       "      <th>0</th>\n",
       "      <td>8</td>\n",
       "      <td>0.10</td>\n",
       "      <td>0.053599</td>\n",
       "    </tr>\n",
       "    <tr>\n",
       "      <th>0</th>\n",
       "      <td>8</td>\n",
       "      <td>0.15</td>\n",
       "      <td>0.055629</td>\n",
       "    </tr>\n",
       "    <tr>\n",
       "      <th>0</th>\n",
       "      <td>8</td>\n",
       "      <td>0.20</td>\n",
       "      <td>0.057844</td>\n",
       "    </tr>\n",
       "    <tr>\n",
       "      <th>0</th>\n",
       "      <td>8</td>\n",
       "      <td>0.25</td>\n",
       "      <td>0.060272</td>\n",
       "    </tr>\n",
       "    <tr>\n",
       "      <th>0</th>\n",
       "      <td>8</td>\n",
       "      <td>0.30</td>\n",
       "      <td>0.062949</td>\n",
       "    </tr>\n",
       "  </tbody>\n",
       "</table>\n",
       "</div>"
      ],
      "text/plain": [
       "   sample_size  effect_size     power\n",
       "0            8         0.10  0.053599\n",
       "0            8         0.15  0.055629\n",
       "0            8         0.20  0.057844\n",
       "0            8         0.25  0.060272\n",
       "0            8         0.30  0.062949"
      ]
     },
     "execution_count": 164,
     "metadata": {},
     "output_type": "execute_result"
    }
   ],
   "source": [
    "betas = 6\n",
    "power_df = generate_power_dataframe(betas)\n",
    "power_df.head()"
   ]
  },
  {
   "cell_type": "code",
   "execution_count": 167,
   "metadata": {},
   "outputs": [
    {
     "data": {
      "text/html": [
       "<div>\n",
       "<style scoped>\n",
       "    .dataframe tbody tr th:only-of-type {\n",
       "        vertical-align: middle;\n",
       "    }\n",
       "\n",
       "    .dataframe tbody tr th {\n",
       "        vertical-align: top;\n",
       "    }\n",
       "\n",
       "    .dataframe thead th {\n",
       "        text-align: right;\n",
       "    }\n",
       "</style>\n",
       "<table border=\"1\" class=\"dataframe\">\n",
       "  <thead>\n",
       "    <tr style=\"text-align: right;\">\n",
       "      <th></th>\n",
       "      <th>sample_size</th>\n",
       "      <th>effect_size</th>\n",
       "      <th>power</th>\n",
       "    </tr>\n",
       "  </thead>\n",
       "  <tbody>\n",
       "    <tr>\n",
       "      <th>0</th>\n",
       "      <td>20</td>\n",
       "      <td>0.10</td>\n",
       "      <td>0.117184</td>\n",
       "    </tr>\n",
       "    <tr>\n",
       "      <th>0</th>\n",
       "      <td>20</td>\n",
       "      <td>0.15</td>\n",
       "      <td>0.164690</td>\n",
       "    </tr>\n",
       "    <tr>\n",
       "      <th>0</th>\n",
       "      <td>20</td>\n",
       "      <td>0.20</td>\n",
       "      <td>0.222962</td>\n",
       "    </tr>\n",
       "    <tr>\n",
       "      <th>0</th>\n",
       "      <td>20</td>\n",
       "      <td>0.25</td>\n",
       "      <td>0.292707</td>\n",
       "    </tr>\n",
       "    <tr>\n",
       "      <th>0</th>\n",
       "      <td>20</td>\n",
       "      <td>0.30</td>\n",
       "      <td>0.373952</td>\n",
       "    </tr>\n",
       "    <tr>\n",
       "      <th>0</th>\n",
       "      <td>20</td>\n",
       "      <td>0.35</td>\n",
       "      <td>0.465644</td>\n",
       "    </tr>\n",
       "    <tr>\n",
       "      <th>0</th>\n",
       "      <td>20</td>\n",
       "      <td>0.40</td>\n",
       "      <td>0.565194</td>\n",
       "    </tr>\n",
       "    <tr>\n",
       "      <th>0</th>\n",
       "      <td>20</td>\n",
       "      <td>0.45</td>\n",
       "      <td>0.668061</td>\n",
       "    </tr>\n",
       "    <tr>\n",
       "      <th>0</th>\n",
       "      <td>20</td>\n",
       "      <td>0.50</td>\n",
       "      <td>0.767644</td>\n",
       "    </tr>\n",
       "    <tr>\n",
       "      <th>0</th>\n",
       "      <td>20</td>\n",
       "      <td>0.55</td>\n",
       "      <td>0.855840</td>\n",
       "    </tr>\n",
       "    <tr>\n",
       "      <th>0</th>\n",
       "      <td>20</td>\n",
       "      <td>0.60</td>\n",
       "      <td>0.924753</td>\n",
       "    </tr>\n",
       "    <tr>\n",
       "      <th>0</th>\n",
       "      <td>20</td>\n",
       "      <td>0.65</td>\n",
       "      <td>0.969616</td>\n",
       "    </tr>\n",
       "    <tr>\n",
       "      <th>0</th>\n",
       "      <td>20</td>\n",
       "      <td>0.70</td>\n",
       "      <td>0.991775</td>\n",
       "    </tr>\n",
       "    <tr>\n",
       "      <th>0</th>\n",
       "      <td>20</td>\n",
       "      <td>0.75</td>\n",
       "      <td>0.998854</td>\n",
       "    </tr>\n",
       "    <tr>\n",
       "      <th>0</th>\n",
       "      <td>20</td>\n",
       "      <td>0.80</td>\n",
       "      <td>0.999952</td>\n",
       "    </tr>\n",
       "    <tr>\n",
       "      <th>0</th>\n",
       "      <td>20</td>\n",
       "      <td>0.85</td>\n",
       "      <td>1.000000</td>\n",
       "    </tr>\n",
       "    <tr>\n",
       "      <th>0</th>\n",
       "      <td>20</td>\n",
       "      <td>0.90</td>\n",
       "      <td>1.000000</td>\n",
       "    </tr>\n",
       "    <tr>\n",
       "      <th>0</th>\n",
       "      <td>20</td>\n",
       "      <td>0.95</td>\n",
       "      <td>1.000000</td>\n",
       "    </tr>\n",
       "  </tbody>\n",
       "</table>\n",
       "</div>"
      ],
      "text/plain": [
       "   sample_size  effect_size     power\n",
       "0           20         0.10  0.117184\n",
       "0           20         0.15  0.164690\n",
       "0           20         0.20  0.222962\n",
       "0           20         0.25  0.292707\n",
       "0           20         0.30  0.373952\n",
       "0           20         0.35  0.465644\n",
       "0           20         0.40  0.565194\n",
       "0           20         0.45  0.668061\n",
       "0           20         0.50  0.767644\n",
       "0           20         0.55  0.855840\n",
       "0           20         0.60  0.924753\n",
       "0           20         0.65  0.969616\n",
       "0           20         0.70  0.991775\n",
       "0           20         0.75  0.998854\n",
       "0           20         0.80  0.999952\n",
       "0           20         0.85  1.000000\n",
       "0           20         0.90  1.000000\n",
       "0           20         0.95  1.000000"
      ]
     },
     "execution_count": 167,
     "metadata": {},
     "output_type": "execute_result"
    }
   ],
   "source": [
    "sloth = power_df[power_df['sample_size'] == 20]\n",
    "sloth"
   ]
  },
  {
   "cell_type": "code",
   "execution_count": 149,
   "metadata": {},
   "outputs": [],
   "source": [
    "figure_name = \"power-calculations-\" + str(betas)+ \"-betas-2019-10-03.pdf\""
   ]
  },
  {
   "cell_type": "code",
   "execution_count": 150,
   "metadata": {},
   "outputs": [
    {
     "data": {
      "image/png": "[encoded data removed]"
     },
     "metadata": {},
     "output_type": "display_data"
    }
   ],
   "source": [
    "%%R -w 800 -h 300 -u px -i power_df,figure_name  # this sets the size of the plot...otherwise, it will go off the page\n",
    "require(ggplot2)\n",
    "library(ggplot2)\n",
    "\n",
    "p <- ggplot(data=power_df, aes(x=sample_size, y=effect_size)) + \n",
    "    stat_density_2d(geom = \"polygon\") +\n",
    "    geom_tile(aes(fill = power)) +\n",
    "    scale_fill_viridis()+\n",
    "#     geom_smooth(method='lm',formula=y~x, color = \"black\", se=FALSE)+\n",
    "#     scale_x_continuous(limits=c(2008, 2018), breaks=c(2008,2010,2012,2014,2016,2018))+ \n",
    "#     scale_y_continuous(limits=c(0,0.3))+\n",
    "    labs(x=\"number of transitions\",y=\"coefficient (effect size)\")+\n",
    "    theme(plot.title = element_text(size=20, hjust=0.5))+\n",
    "    theme(panel.grid.major.y=element_line(colour=NA))+\n",
    "    theme(panel.grid.minor=element_line(colour=NA,size=NA))+    \n",
    "    theme(strip.background = element_rect(colour=NA, fill=NA))+\n",
    "    theme(axis.line.x=element_line(colour=\"black\"))+\n",
    "    theme(axis.line.y=element_line(colour=\"black\"))+\n",
    "    theme(strip.text.x=element_text(size=116))+\n",
    "    theme(axis.title.y=element_text(size=16, vjust=4))+\n",
    "    theme(axis.title.x=element_text(size=16, vjust=-3))+\n",
    "    theme(axis.text=element_text(size=16, colour=\"black\"))+\n",
    "    theme(axis.text.x=element_text(size=16))+\n",
    "    theme(legend.text=element_text(size=16))+\n",
    "    theme(legend.title=element_text(size=16, face=\"plain\"))+\n",
    "    theme(panel.margin=unit(1, \"lines\"))+theme(plot.margin=unit(c(1,1,1,1),\"cm\"))+\n",
    "    theme(legend.key.size=unit(0.7, \"cm\"))+\n",
    "    theme(panel.background=element_rect(fill=NA))+\n",
    "    theme(legend.key=element_rect(fill=NA))\n",
    "\n",
    "ggsave(figure_name, p, width = 5, height = 3.5, path=\"/Users/lmoncla/Documents/Fellowships/K99/resubmission/figures/\")\n",
    "p"
   ]
  },
  {
   "cell_type": "code",
   "execution_count": null,
   "metadata": {},
   "outputs": [],
   "source": []
  }
 ],
 "metadata": {
  "kernelspec": {
   "display_name": "LHM-basics (python3)",
   "language": "python",
   "name": "lhm-basics"
  },
  "language_info": {
   "codemirror_mode": {
    "name": "ipython",
    "version": 3
   },
   "file_extension": ".py",
   "mimetype": "text/x-python",
   "name": "python",
   "nbconvert_exporter": "python",
   "pygments_lexer": "ipython3",
   "version": "3.7.3"
  }
 },
 "nbformat": 4,
 "nbformat_minor": 2
}
